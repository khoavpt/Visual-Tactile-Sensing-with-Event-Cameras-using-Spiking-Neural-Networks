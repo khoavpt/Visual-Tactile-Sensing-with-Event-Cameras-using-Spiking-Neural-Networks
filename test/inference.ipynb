{
 "cells": [
  {
   "cell_type": "code",
   "execution_count": 9,
   "metadata": {},
   "outputs": [
    {
     "name": "stderr",
     "output_type": "stream",
     "text": [
      "C:\\Users\\LENOVO\\AppData\\Roaming\\Python\\Python310\\site-packages\\tqdm\\auto.py:21: TqdmWarning: IProgress not found. Please update jupyter and ipywidgets. See https://ipywidgets.readthedocs.io/en/stable/user_install.html\n",
      "  from .autonotebook import tqdm as notebook_tqdm\n"
     ]
    }
   ],
   "source": [
    "import dv_processing as dv\n",
    "import sys\n",
    "sys.path.append('../')\n",
    "\n",
    "import numpy as np\n",
    "import matplotlib.pyplot as plt\n",
    "from src.data.events_encoding import accumulate_dv_encode\n",
    "from src.data.preprocessing import preprocess_frames\n"
   ]
  },
  {
   "cell_type": "code",
   "execution_count": 18,
   "metadata": {},
   "outputs": [
    {
     "name": "stdout",
     "output_type": "stream",
     "text": [
      "{2}\n",
      "{2}\n",
      "{1}\n",
      "{1}\n",
      "{3}\n",
      "{3}\n",
      "{6}\n",
      "{1}\n",
      "{3}\n",
      "{1}\n",
      "{1}\n",
      "{1}\n",
      "{3}\n",
      "{1}\n",
      "{2}\n",
      "{4}\n",
      "{1}\n",
      "{1}\n",
      "{1}\n",
      "{4}\n",
      "{1}\n",
      "{1}\n",
      "{1}\n",
      "{3}\n",
      "{1}\n",
      "{1}\n",
      "{1}\n",
      "{2}\n",
      "{1}\n",
      "{1}\n",
      "{1}\n",
      "{1}\n",
      "{1}\n",
      "{1}\n",
      "{2}\n",
      "{1}\n",
      "{1}\n",
      "{3}\n",
      "{1}\n",
      "{1}\n",
      "{1}\n",
      "{1}\n",
      "{1}\n",
      "{1}\n",
      "{1}\n",
      "{2}\n",
      "{1}\n",
      "{1}\n",
      "{1}\n",
      "{2}\n",
      "{2}\n",
      "{1}\n",
      "{5}\n",
      "{8}\n",
      "{3}\n",
      "{2}\n",
      "{3}\n",
      "{6}\n",
      "{1}\n",
      "{1}\n",
      "{1}\n",
      "{2}\n",
      "{2}\n",
      "{1}\n",
      "{1}\n",
      "{2}\n",
      "{1}\n",
      "{1}\n",
      "{2}\n",
      "{6}\n",
      "{1}\n",
      "{1}\n",
      "{2}\n",
      "{1}\n",
      "{1}\n",
      "{1}\n",
      "{1}\n",
      "{2}\n",
      "{1}\n",
      "{3}\n",
      "{1}\n",
      "{2}\n",
      "{2}\n",
      "{1}\n",
      "{4}\n",
      "{3}\n",
      "{2}\n",
      "{1}\n",
      "{2}\n",
      "{2}\n",
      "{2}\n",
      "{1}\n",
      "{1}\n",
      "{2}\n",
      "{2}\n",
      "{3}\n",
      "{1}\n",
      "{1}\n",
      "{2}\n",
      "{1}\n",
      "{3}\n",
      "{2}\n",
      "{1}\n",
      "{1}\n",
      "{1}\n",
      "{4}\n",
      "{1}\n",
      "{3}\n",
      "{2}\n",
      "{1}\n",
      "{1}\n",
      "{1}\n",
      "{2}\n",
      "{1}\n",
      "{1}\n",
      "{1}\n",
      "{1}\n",
      "{2}\n",
      "{1}\n",
      "{4}\n",
      "{5}\n",
      "{6}\n"
     ]
    },
    {
     "ename": "KeyboardInterrupt",
     "evalue": "",
     "output_type": "error",
     "traceback": [
      "\u001b[1;31m---------------------------------------------------------------------------\u001b[0m",
      "\u001b[1;31mKeyboardInterrupt\u001b[0m                         Traceback (most recent call last)",
      "Cell \u001b[1;32mIn[18], line 19\u001b[0m\n\u001b[0;32m     16\u001b[0m \u001b[38;5;28;01mif\u001b[39;00m previous_timestamp \u001b[38;5;129;01mis\u001b[39;00m \u001b[38;5;129;01mnot\u001b[39;00m \u001b[38;5;28;01mNone\u001b[39;00m:\n\u001b[0;32m     17\u001b[0m     time_diff \u001b[38;5;241m=\u001b[39m (current_timestamp \u001b[38;5;241m-\u001b[39m previous_timestamp) \u001b[38;5;241m/\u001b[39m \u001b[38;5;241m1e6\u001b[39m  \u001b[38;5;66;03m# Convert microseconds to seconds\u001b[39;00m\n\u001b[1;32m---> 19\u001b[0m     \u001b[43mtime\u001b[49m\u001b[38;5;241;43m.\u001b[39;49m\u001b[43msleep\u001b[49m\u001b[43m(\u001b[49m\u001b[43mtime_diff\u001b[49m\u001b[43m)\u001b[49m\n\u001b[0;32m     20\u001b[0m \u001b[38;5;28mprint\u001b[39m({events\u001b[38;5;241m.\u001b[39msize()})\n\u001b[0;32m     21\u001b[0m previous_timestamp \u001b[38;5;241m=\u001b[39m current_timestamp\n",
      "\u001b[1;31mKeyboardInterrupt\u001b[0m: "
     ]
    }
   ],
   "source": [
    "import time\n",
    "import cv2\n",
    "\n",
    "# Open any camera\n",
    "reader = dv.io.MonoCameraRecording(\"../data/raw_data/raw5.aedat4\")\n",
    "\n",
    "# Initialize the previous event timestamp\n",
    "previous_timestamp = None\n",
    "\n",
    "# Run the loop while camera is still connected\n",
    "while reader.isRunning():\n",
    "    events = reader.getNextEventBatch()\n",
    "    if events is not None:\n",
    "        current_timestamp = events[0].timestamp()\n",
    "\n",
    "        if previous_timestamp is not None:\n",
    "            time_diff = (current_timestamp - previous_timestamp) / 1e6  # Convert microseconds to seconds\n",
    "\n",
    "            time.sleep(time_diff)\n",
    "        print({events.size()})\n",
    "        previous_timestamp = current_timestamp\n",
    "        frames = accumulate_dv_encode(events, reader.getEventResolution())\n",
    "\n",
    "        cv2.imshow(\"Frames\", frames)\n",
    "    \n"
   ]
  },
  {
   "cell_type": "code",
   "execution_count": 17,
   "metadata": {},
   "outputs": [
    {
     "data": {
      "text/plain": [
       "10"
      ]
     },
     "execution_count": 17,
     "metadata": {},
     "output_type": "execute_result"
    }
   ],
   "source": [
    "from datetime import timedelta\n",
    "\n",
    "store1 = dv.data.generate.uniformEventsWithinTimeRange(10000, timedelta(milliseconds=10), (100, 100), 10)\n",
    "store1.size()"
   ]
  },
  {
   "cell_type": "code",
   "execution_count": null,
   "metadata": {},
   "outputs": [],
   "source": []
  }
 ],
 "metadata": {
  "kernelspec": {
   "display_name": "Python 3",
   "language": "python",
   "name": "python3"
  },
  "language_info": {
   "codemirror_mode": {
    "name": "ipython",
    "version": 3
   },
   "file_extension": ".py",
   "mimetype": "text/x-python",
   "name": "python",
   "nbconvert_exporter": "python",
   "pygments_lexer": "ipython3",
   "version": "3.10.6"
  }
 },
 "nbformat": 4,
 "nbformat_minor": 2
}
