{
 "cells": [
  {
   "cell_type": "code",
   "execution_count": 1,
   "metadata": {},
   "outputs": [
    {
     "name": "stderr",
     "output_type": "stream",
     "text": [
      "C:\\Users\\LENOVO\\AppData\\Roaming\\Python\\Python310\\site-packages\\tqdm\\auto.py:21: TqdmWarning: IProgress not found. Please update jupyter and ipywidgets. See https://ipywidgets.readthedocs.io/en/stable/user_install.html\n",
      "  from .autonotebook import tqdm as notebook_tqdm\n"
     ]
    }
   ],
   "source": [
    "import numpy as np\n",
    "import os\n",
    "import dv_processing as dv\n",
    "from datetime import timedelta\n",
    "import matplotlib.pyplot as plt\n",
    "import torch\n",
    "import torch.nn as nn\n",
    "from torch.utils.data import Dataset, DataLoader, random_split\n",
    "import pandas as pd\n",
    "import cv2\n",
    "\n",
    "\n",
    "import sys\n",
    "sys.path.append('../')\n",
    "from src.data.preprocessing import *\n",
    "from src.data.custom_dataset import *\n",
    "from src.models.convlstm import ConvLSTM\n",
    "\n",
    "from src.utils.plotting import *\n"
   ]
  },
  {
   "cell_type": "code",
   "execution_count": 2,
   "metadata": {},
   "outputs": [
    {
     "name": "stdout",
     "output_type": "stream",
     "text": [
      "Total number of sequences: 307\n",
      "Number of training sequences: 245\n",
      "Number of test sequences: 62\n",
      "Training DataLoader:\n",
      "torch.Size([32, 300, 1, 32, 32]) torch.Size([32, 300])\n",
      "Test DataLoader:\n",
      "torch.Size([32, 300, 1, 32, 32]) torch.Size([32, 300])\n",
      "Number of training batches: 8\n",
      "Number of test batches: 2\n"
     ]
    }
   ],
   "source": [
    "train_dataloader, test_dataloader = create_dataloader(\n",
    "    data_dir='../data/seq_data',\n",
    "    batch_size=32,\n",
    "    num_workers=1,\n",
    ")"
   ]
  },
  {
   "cell_type": "markdown",
   "metadata": {},
   "source": [
    "## 1. ConvLSTM"
   ]
  },
  {
   "cell_type": "code",
   "execution_count": null,
   "metadata": {},
   "outputs": [
    {
     "ename": "",
     "evalue": "",
     "output_type": "error",
     "traceback": [
      "\u001b[1;31mThe Kernel crashed while executing code in the current cell or a previous cell. \n",
      "\u001b[1;31mPlease review the code in the cell(s) to identify a possible cause of the failure. \n",
      "\u001b[1;31mClick <a href='https://aka.ms/vscodeJupyterKernelCrash'>here</a> for more info. \n",
      "\u001b[1;31mView Jupyter <a href='command:jupyter.viewOutput'>log</a> for further details."
     ]
    }
   ],
   "source": [
    "checkpoint_path = '../saved_models/epoch=49-step=400.ckpt'\n",
    "model = ConvLSTM.load_from_checkpoint(checkpoint_path, in_channels=1, feature_size=128)"
   ]
  },
  {
   "cell_type": "code",
   "execution_count": null,
   "metadata": {},
   "outputs": [
    {
     "name": "stdout",
     "output_type": "stream",
     "text": [
      "[(46, 300), (27, 299), (12, 287), (45, 282), (34, 281), (23, 279), (50, 263), (26, 259), (1, 257), (53, 243), (38, 237), (48, 225), (15, 213), (20, 211), (32, 208), (29, 207), (18, 205), (39, 204), (54, 204), (30, 180), (49, 179), (41, 174), (44, 174), (2, 158), (4, 140), (55, 124), (43, 123), (47, 95), (13, 73), (9, 61), (8, 58), (19, 48), (25, 25), (61, 22), (17, 19), (60, 13), (36, 11), (40, 7), (42, 5), (31, 4), (0, 3), (3, 2), (5, 2), (14, 2), (33, 1), (6, 0), (7, 0), (10, 0), (11, 0), (16, 0), (21, 0), (22, 0), (24, 0), (28, 0), (35, 0), (37, 0), (51, 0), (52, 0), (56, 0), (57, 0), (58, 0), (59, 0)]\n"
     ]
    }
   ],
   "source": [
    "visualize_top_errors(model, test_dataloader, model_name=\"ConvLSTM\", top_n=5, save_path='convlstm_top_errors.mp4')"
   ]
  },
  {
   "cell_type": "code",
   "execution_count": null,
   "metadata": {},
   "outputs": [],
   "source": []
  }
 ],
 "metadata": {
  "kernelspec": {
   "display_name": "Python 3",
   "language": "python",
   "name": "python3"
  },
  "language_info": {
   "codemirror_mode": {
    "name": "ipython",
    "version": 3
   },
   "file_extension": ".py",
   "mimetype": "text/x-python",
   "name": "python",
   "nbconvert_exporter": "python",
   "pygments_lexer": "ipython3",
   "version": "3.10.6"
  }
 },
 "nbformat": 4,
 "nbformat_minor": 2
}
