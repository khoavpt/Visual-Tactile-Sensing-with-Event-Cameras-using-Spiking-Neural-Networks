{
 "cells": [
  {
   "cell_type": "code",
   "execution_count": 1,
   "metadata": {},
   "outputs": [],
   "source": [
    "import dv_processing as dv"
   ]
  },
  {
   "cell_type": "code",
   "execution_count": 19,
   "metadata": {},
   "outputs": [
    {
     "name": "stdout",
     "output_type": "stream",
     "text": [
      "Opening input file: D:\\UET\\SNN\\Visual-Tactile-Sensing-with-Event-Cameras-using-Spiking-Neural-Networks\\data\\raw_data\\raw1.aedat4\n",
      "Detected resolution: (240, 180)\n",
      "Counting events in the file...\n",
      "Total events: 957795\n",
      "Events to skip (keeping last 25%): 718346\n",
      "Written 239449 events to test1.aedat4\n",
      "Successfully kept the last 25% of the file\n"
     ]
    }
   ],
   "source": [
    "import dv_processing as dv\n",
    "import os\n",
    "\n",
    "import dv_processing as dv\n",
    "import os\n",
    "import argparse\n",
    "\n",
    "def cut_aedat4_file(input_file, output_file, keep_percentage=30):\n",
    "    \"\"\"\n",
    "    Cut the beginning of an AEDAT4 file and keep only the last percentage\n",
    "    \n",
    "    Args:\n",
    "        input_file (str): Path to input AEDAT4 file\n",
    "        output_file (str): Path to output AEDAT4 file\n",
    "        keep_percentage (int): Percentage to keep from the end (default: 30%)\n",
    "    \"\"\"\n",
    "    print(f\"Opening input file: {input_file}\")\n",
    "    reader = dv.io.MonoCameraRecording(input_file)\n",
    "    \n",
    "    # Get resolution from the reader\n",
    "    resolution = (reader.getEventResolution()[0], reader.getEventResolution()[1])\n",
    "    print(f\"Detected resolution: {resolution}\")\n",
    "    \n",
    "    # Create a writer configuration and output file\n",
    "    config = dv.io.MonoCameraWriter.EventOnlyConfig(os.path.basename(input_file).split('.')[0], resolution)\n",
    "    writer = dv.io.MonoCameraWriter(output_file, config)\n",
    "    \n",
    "    # First, count the total number of event batches to determine the cutoff point\n",
    "    total_events = 0\n",
    "    all_event_batches = []\n",
    "    \n",
    "    print(\"Counting events in the file...\")\n",
    "    while reader.isRunning():\n",
    "        events = reader.getNextEventBatch()\n",
    "        if events is not None:\n",
    "            total_events += len(events)\n",
    "            all_event_batches.append(events)\n",
    "        else:\n",
    "            break\n",
    "    \n",
    "    print(f\"Total events: {total_events}\")\n",
    "    \n",
    "    # Calculate how many events to skip (70% of total)\n",
    "    events_to_skip = int(total_events * (100 - keep_percentage) / 100)\n",
    "    print(f\"Events to skip (keeping last {keep_percentage}%): {events_to_skip}\")\n",
    "    \n",
    "    # Skip events and then write the rest\n",
    "    events_processed = 0\n",
    "    for events in all_event_batches:\n",
    "        if events_processed + len(events) <= events_to_skip:\n",
    "            # Skip this entire batch\n",
    "            events_processed += len(events)\n",
    "        else:\n",
    "            # We need to start writing from this batch\n",
    "            # First, handle the partial first batch if needed\n",
    "            if events_processed < events_to_skip:\n",
    "                # Calculate how many events to skip in this batch\n",
    "                skip_in_batch = events_to_skip - events_processed\n",
    "                \n",
    "                # Create a new event store with just the events we want to keep\n",
    "                partial_events = dv.EventStore()\n",
    "                for i in range(skip_in_batch, len(events)):\n",
    "                    partial_events.push_back(events[i])\n",
    "                \n",
    "                writer.writeEvents(partial_events)\n",
    "            else:\n",
    "                # Write the full batch\n",
    "                writer.writeEvents(events)\n",
    "            \n",
    "            events_processed += len(events)\n",
    "    \n",
    "    events_kept = total_events - events_to_skip\n",
    "    print(f\"Written {events_kept} events to {output_file}\")\n",
    "    print(f\"Successfully kept the last {keep_percentage}% of the file\")\n",
    "\n",
    "\n",
    "cut_aedat4_file(r\"D:\\UET\\SNN\\Visual-Tactile-Sensing-with-Event-Cameras-using-Spiking-Neural-Networks\\data\\raw_data\\raw1.aedat4\", \"test1.aedat4\", keep_percentage=25)"
   ]
  },
  {
   "cell_type": "code",
   "execution_count": 13,
   "metadata": {},
   "outputs": [],
   "source": [
    "reader = dv.io.MonoCameraRecording(r\"D:\\UET\\SNN\\Visual-Tactile-Sensing-with-Event-Cameras-using-Spiking-Neural-Networks\\data\\raw_data\\raw1.aedat4\")\n",
    "    \n",
    "resolution = reader.getEventResolution()"
   ]
  },
  {
   "cell_type": "code",
   "execution_count": 15,
   "metadata": {},
   "outputs": [
    {
     "data": {
      "text/plain": [
       "180"
      ]
     },
     "execution_count": 15,
     "metadata": {},
     "output_type": "execute_result"
    }
   ],
   "source": [
    "resolution[1]"
   ]
  },
  {
   "cell_type": "code",
   "execution_count": null,
   "metadata": {},
   "outputs": [],
   "source": []
  }
 ],
 "metadata": {
  "kernelspec": {
   "display_name": "snn",
   "language": "python",
   "name": "python3"
  },
  "language_info": {
   "codemirror_mode": {
    "name": "ipython",
    "version": 3
   },
   "file_extension": ".py",
   "mimetype": "text/x-python",
   "name": "python",
   "nbconvert_exporter": "python",
   "pygments_lexer": "ipython3",
   "version": "3.10.12"
  }
 },
 "nbformat": 4,
 "nbformat_minor": 2
}
